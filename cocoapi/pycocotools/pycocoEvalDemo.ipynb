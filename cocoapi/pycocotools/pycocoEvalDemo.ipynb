{
 "cells": [
  {
   "cell_type": "code",
   "execution_count": 14,
   "metadata": {},
   "outputs": [],
   "source": [
    "%matplotlib inline\n",
    "import matplotlib.pyplot as plt\n",
    "from pycocotools.coco import COCO\n",
    "from pycocotools.cocoeval import COCOeval\n",
    "import numpy as np\n",
    "import skimage.io as io\n",
    "import pylab\n",
    "pylab.rcParams['figure.figsize'] = (10.0, 8.0)"
   ]
  },
  {
   "cell_type": "code",
   "execution_count": 15,
   "metadata": {},
   "outputs": [],
   "source": [
    "annType = ['segm','bbox','keypoints']\n",
    "annType = annType[1]      #specify type here\n",
    "# prefix = 'person_keypoints' if annType=='keypoints' else 'instances'\n",
    "# print 'Running demo for *%s* results.'%(annType)"
   ]
  },
  {
   "cell_type": "code",
   "execution_count": 16,
   "metadata": {},
   "outputs": [
    {
     "name": "stdout",
     "output_type": "stream",
     "text": [
      "loading annotations into memory...\n",
      "Done (t=0.06s)\n",
      "creating index...\n",
      "index created!\n"
     ]
    }
   ],
   "source": [
    "#initialize COCO ground truth api\n",
    "dataDir='/data3/dailh/train/coco_new/'\n",
    "dataType='val2017'\n",
    "annFile='{}/annotations/instances_{}.json'.format(dataDir,dataType)\n",
    "cocoGt=COCO(annFile)"
   ]
  },
  {
   "cell_type": "code",
   "execution_count": 17,
   "metadata": {},
   "outputs": [
    {
     "name": "stdout",
     "output_type": "stream",
     "text": [
      "Loading and preparing results...\n",
      "DONE (t=0.98s)\n",
      "creating index...\n",
      "index created!\n"
     ]
    }
   ],
   "source": [
    "#initialize COCO detections api\n",
    "# resFile='%s/results/%s_fake%s100_results.json'\n",
    "# resFile = resFile%(dataDir, dataType, annType)\n",
    "resFile = '/home/dailh/mmdetection/results/val2017.bbox.json'\n",
    "cocoDt=cocoGt.loadRes(resFile)"
   ]
  },
  {
   "cell_type": "code",
   "execution_count": 18,
   "metadata": {},
   "outputs": [],
   "source": [
    "imgIds=sorted(cocoGt.getImgIds())\n",
    "imgIds=imgIds[0:100]\n",
    "imgId = imgIds[np.random.randint(100)]"
   ]
  },
  {
   "cell_type": "code",
   "execution_count": 19,
   "metadata": {},
   "outputs": [
    {
     "name": "stdout",
     "output_type": "stream",
     "text": [
      "Running per image evaluation...\n",
      "Evaluate annotation type *bbox*\n",
      "Per image evaluation DONE (t=1.07s).\n",
      "Accumulating evaluation results...\n",
      "Accumulating DONE (t=0.12s).\n",
      "Average Precision  (AP) @[ IoU=0.50:0.95 | area=   all | maxDets=100 ] = 0.474\n",
      "Average Precision  (AP) @[ IoU=0.50      | area=   all | maxDets=100 ] = 0.836\n",
      "Average Precision  (AP) @[ IoU=0.75      | area=   all | maxDets=100 ] = 0.476\n",
      "Average Precision  (AP) @[ IoU=0.50:0.95 | area= small | maxDets=100 ] = 0.208\n",
      "Average Precision  (AP) @[ IoU=0.50:0.95 | area=medium | maxDets=100 ] = 0.379\n",
      "Average Precision  (AP) @[ IoU=0.50:0.95 | area= large | maxDets=100 ] = 0.556\n",
      "Average Recall     (AR) @[ IoU=0.50:0.95 | area=   all | maxDets=  1 ] = 0.181\n",
      "Average Recall     (AR) @[ IoU=0.50:0.95 | area=   all | maxDets= 10 ] = 0.541\n",
      "Average Recall     (AR) @[ IoU=0.50:0.95 | area=   all | maxDets=100 ] = 0.634\n",
      "Average Recall     (AR) @[ IoU=0.50:0.95 | area= small | maxDets=100 ] = 0.443\n",
      "Average Recall     (AR) @[ IoU=0.50:0.95 | area=medium | maxDets=100 ] = 0.572\n",
      "Average Recall     (AR) @[ IoU=0.50:0.95 | area= large | maxDets=100 ] = 0.695\n",
      "Running per image evaluation...\n",
      "Evaluate annotation type *bbox*\n",
      "Per image evaluation DONE (t=0.43s).\n",
      "Accumulating evaluation results...\n",
      "Accumulating DONE (t=0.03s).\n",
      "Analyzing echinus (0):\n",
      "Running per image evaluation...\n",
      "Evaluate annotation type *bbox*\n",
      "Per image evaluation DONE (t=0.12s).\n",
      "Accumulating evaluation results...\n",
      "Accumulating DONE (t=0.01s).\n",
      "start makeplot\n",
      "Analyzing DONE (t=0.13s).\n",
      "Analyzing starfish (1):\n",
      "Running per image evaluation...\n",
      "Evaluate annotation type *bbox*\n",
      "Per image evaluation DONE (t=0.09s).\n",
      "Accumulating evaluation results...\n",
      "Accumulating DONE (t=0.01s).\n",
      "start makeplot\n",
      "Analyzing DONE (t=0.09s).\n",
      "Analyzing holothurian (2):\n",
      "Running per image evaluation...\n",
      "Evaluate annotation type *bbox*\n",
      "Per image evaluation DONE (t=0.10s).\n",
      "Accumulating evaluation results...\n",
      "Accumulating DONE (t=0.01s).\n",
      "start makeplot\n",
      "Analyzing DONE (t=0.11s).\n",
      "Analyzing scallop (3):\n",
      "Running per image evaluation...\n",
      "Evaluate annotation type *bbox*\n",
      "Per image evaluation DONE (t=0.09s).\n",
      "Accumulating evaluation results...\n",
      "Accumulating DONE (t=0.00s).\n",
      "start makeplot\n",
      "Analyzing DONE (t=0.10s).\n",
      "start makeplot\n",
      "Done\n"
     ]
    }
   ],
   "source": [
    "# running evaluation\n",
    "cocoEval = COCOeval(cocoGt,cocoDt,annType)\n",
    "cocoEval.params.imgIds  = imgIds\n",
    "cocoEval.evaluate()\n",
    "cocoEval.accumulate()\n",
    "cocoEval.summarize()\n",
    "if True:\n",
    "  cocoEval.params.outDir = '/home/dailh/mmdetection/results/analyze_figures'\n",
    "  cocoEval.analyze()\n",
    "  print('Done')"
   ]
  },
  {
   "cell_type": "code",
   "execution_count": null,
   "metadata": {},
   "outputs": [],
   "source": []
  }
 ],
 "metadata": {
  "kernelspec": {
   "display_name": "Python 3",
   "language": "python",
   "name": "python3"
  },
  "language_info": {
   "codemirror_mode": {
    "name": "ipython",
    "version": 3
   },
   "file_extension": ".py",
   "mimetype": "text/x-python",
   "name": "python",
   "nbconvert_exporter": "python",
   "pygments_lexer": "ipython3",
   "version": "3.7.7"
  }
 },
 "nbformat": 4,
 "nbformat_minor": 1
}
